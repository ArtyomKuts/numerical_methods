{
 "cells": [
  {
   "cell_type": "markdown",
   "metadata": {},
   "source": [
    "ЛАБОРАТОРНАЯ РАБОТА 1.2"
   ]
  },
  {
   "cell_type": "markdown",
   "metadata": {},
   "source": [
    "Импортируем необходимые библиотеки"
   ]
  },
  {
   "cell_type": "code",
   "execution_count": 1,
   "metadata": {},
   "outputs": [],
   "source": [
    "import numpy as np \n",
    "import matplotlib.pyplot as plt\n",
    "import random\n"
   ]
  },
  {
   "cell_type": "markdown",
   "metadata": {},
   "source": [
    "Задаём число обусловленности, размерность матрицы и решение СЛАУ"
   ]
  },
  {
   "cell_type": "code",
   "execution_count": 2,
   "metadata": {},
   "outputs": [],
   "source": [
    "\n",
    "cond=float(input('Задайте число обусловленности: '))\n",
    "n=int(input('Задайте размерность матрицы: '))\n",
    "result_x=np.random.sample(n).reshape(-1, 1)"
   ]
  },
  {
   "cell_type": "markdown",
   "metadata": {},
   "source": [
    "Задаём элементы на главной диагонали, создаём треугольную матрицу"
   ]
  },
  {
   "cell_type": "code",
   "execution_count": 3,
   "metadata": {},
   "outputs": [],
   "source": [
    "lambda1=1\n",
    "lambda2=cond\n",
    "lambda_n=random.uniform(1,cond)\n",
    "u=np.full(n-2,lambda_n)\n",
    "v=np.concatenate((np.array([lambda1,cond]),u))\n",
    "D=np.diag(v)\n",
    "T=np.tri(n)\n",
    "G=np.diag(np.ones(n))\n",
    "B=T+D-G"
   ]
  },
  {
   "cell_type": "markdown",
   "metadata": {},
   "source": [
    "Cоздаём ортогональную матрицу"
   ]
  },
  {
   "cell_type": "code",
   "execution_count": 4,
   "metadata": {},
   "outputs": [],
   "source": [
    "E=np.eye(n)\n",
    "w=np.random.sample(n)\n",
    "Q=E-2*w*w.reshape(-1, 1)/np.linalg.norm(w)**2\n"
   ]
  },
  {
   "cell_type": "markdown",
   "metadata": {},
   "source": [
    "Создаём матрицу и вычисляем правую часть СЛАУ по известной матрице"
   ]
  },
  {
   "cell_type": "code",
   "execution_count": 5,
   "metadata": {},
   "outputs": [],
   "source": [
    "A=np.dot(np.linalg.inv(Q),B)\n",
    "A=np.dot(A, Q)\n",
    "b=np.dot(A,result_x)"
   ]
  },
  {
   "cell_type": "markdown",
   "metadata": {},
   "source": [
    "Задаём возмущение правой части"
   ]
  },
  {
   "cell_type": "code",
   "execution_count": 6,
   "metadata": {},
   "outputs": [],
   "source": [
    "k=random.randint(0,n-1)\n",
    "delta_b=2*(0.5-random.random())*b[k]*0.02\n",
    "b[k]=b[k]+delta_b"
   ]
  },
  {
   "cell_type": "markdown",
   "metadata": {},
   "source": [
    "Найдем обратную матрицу с помощью метода Жордана"
   ]
  },
  {
   "cell_type": "code",
   "execution_count": 7,
   "metadata": {},
   "outputs": [],
   "source": [
    "E=np.eye(n)\n",
    "def Iordan(matrix):\n",
    "    composite_matrix=np.hstack([matrix,E])\n",
    "    j=0\n",
    "    while j!=n-1:\n",
    "        composite_matrix[j,j:]=composite_matrix[j,j:]/composite_matrix[j,j]\n",
    "        i=0\n",
    "        while i!=n:\n",
    "            if i==j:\n",
    "                i+=1\n",
    "            composite_matrix[i,j:]=composite_matrix[i,j:]-composite_matrix[j,j:]*composite_matrix[i,j]\n",
    "            i+=1\n",
    "        j+=1\n",
    "    j=n-1\n",
    "    i=n-2\n",
    "    composite_matrix[j,j:]=composite_matrix[j,j:]/composite_matrix[j,j]\n",
    "    while i!=-1:\n",
    "        composite_matrix[i,j:]=composite_matrix[i,j:]-composite_matrix[j,j:]*composite_matrix[i,j]\n",
    "        i-=1\n",
    "    return composite_matrix[0:,n:]\n",
    "\n"
   ]
  },
  {
   "cell_type": "markdown",
   "metadata": {},
   "source": [
    "Найдем численное решение СЛАУ"
   ]
  },
  {
   "cell_type": "code",
   "execution_count": 8,
   "metadata": {},
   "outputs": [],
   "source": [
    "num_x=np.dot(Iordan(A),b)"
   ]
  },
  {
   "cell_type": "markdown",
   "metadata": {},
   "source": [
    "Вычислим число обусловленности матрицы"
   ]
  },
  {
   "cell_type": "code",
   "execution_count": 9,
   "metadata": {},
   "outputs": [],
   "source": [
    "cond_A=np.linalg.norm(A,2)*np.linalg.norm(Iordan(A),2)"
   ]
  },
  {
   "cell_type": "markdown",
   "metadata": {},
   "source": [
    "Проверим выполнение неравенства"
   ]
  },
  {
   "cell_type": "code",
   "execution_count": 10,
   "metadata": {},
   "outputs": [
    {
     "data": {
      "text/plain": [
       "np.float64(0.02221942291999882)"
      ]
     },
     "execution_count": 10,
     "metadata": {},
     "output_type": "execute_result"
    }
   ],
   "source": [
    "np.linalg.norm(result_x-num_x,2)/np.linalg.norm(result_x,2)"
   ]
  },
  {
   "cell_type": "code",
   "execution_count": 11,
   "metadata": {},
   "outputs": [
    {
     "data": {
      "text/plain": [
       "np.float64(0.12647915875979338)"
      ]
     },
     "execution_count": 11,
     "metadata": {},
     "output_type": "execute_result"
    }
   ],
   "source": [
    "cond_A*np.linalg.norm(delta_b,2)/np.linalg.norm(b-delta_b,2)"
   ]
  },
  {
   "cell_type": "code",
   "execution_count": 12,
   "metadata": {},
   "outputs": [
    {
     "data": {
      "text/plain": [
       "np.True_"
      ]
     },
     "execution_count": 12,
     "metadata": {},
     "output_type": "execute_result"
    }
   ],
   "source": [
    "cond_A*np.linalg.norm(delta_b,2)/np.linalg.norm(b-delta_b,2)>=np.linalg.norm(result_x-num_x,2)/np.linalg.norm(result_x,2)"
   ]
  },
  {
   "cell_type": "markdown",
   "metadata": {},
   "source": [
    "Построим графики зависимости нормы ошибки и нормы невязки от числа обусловленности матрицы."
   ]
  },
  {
   "cell_type": "markdown",
   "metadata": {},
   "source": [
    "Сначала создадим необходимые массивы"
   ]
  },
  {
   "cell_type": "code",
   "execution_count": 13,
   "metadata": {},
   "outputs": [],
   "source": [
    "many_matrix=[]\n",
    "many_conds=[]\n",
    "many_b=[]\n",
    "many_results_x=[]"
   ]
  },
  {
   "cell_type": "markdown",
   "metadata": {},
   "source": [
    "Далее создаём много матриц одного размера с разными числами обсуловленности, заполняем созданные ранее массивы"
   ]
  },
  {
   "cell_type": "code",
   "execution_count": 14,
   "metadata": {},
   "outputs": [],
   "source": [
    "i=0\n",
    "cond=1\n",
    "while cond!=10**20:\n",
    "    result_x=np.random.sample(n).reshape(-1, 1)\n",
    "    lambda1=1\n",
    "    lambda2=cond\n",
    "    lambda_n=random.uniform(1,cond)\n",
    "    u=np.full(n-2,lambda_n)\n",
    "    v=np.concatenate((np.array([lambda1,cond]),u))\n",
    "    D=np.diag(v)\n",
    "    T=np.tri(n)\n",
    "    G=np.diag(np.ones(n))\n",
    "    B=T+D-G\n",
    "    E=np.eye(n)\n",
    "    w=np.random.sample(n)\n",
    "    Q=E-2*w*w.reshape(-1, 1)/np.linalg.norm(w)**2\n",
    "    A=np.dot(np.linalg.inv(Q),B)\n",
    "    A=np.dot(A, Q)\n",
    "    b=np.dot(A,result_x)\n",
    "    many_conds.append(cond)\n",
    "    many_matrix.append(A)\n",
    "    many_results_x.append(result_x)\n",
    "    many_b.append(b)\n",
    "    i+=1\n",
    "    cond=10**i"
   ]
  },
  {
   "cell_type": "markdown",
   "metadata": {},
   "source": [
    "Создаём массивы для построения графиков"
   ]
  },
  {
   "cell_type": "code",
   "execution_count": 15,
   "metadata": {},
   "outputs": [],
   "source": [
    "f=list(range(0,20))\n",
    "many_num_x=[np.dot(Iordan(many_matrix[i]),many_b[i]) for i in f]\n",
    "many_errors=[np.linalg.norm(many_num_x[i]-many_results_x[i],2) for i in f]\n",
    "many_nevazka=[np.linalg.norm(np.dot(many_matrix[i],many_num_x[i])-many_b[i],2) for i in f]\n"
   ]
  },
  {
   "cell_type": "markdown",
   "metadata": {},
   "source": [
    "Строим графики"
   ]
  },
  {
   "cell_type": "code",
   "execution_count": null,
   "metadata": {},
   "outputs": [
    {
     "data": {
      "image/png": "[encoded data removed]",
      "text/plain": [
       "<Figure size 640x480 with 1 Axes>"
      ]
     },
     "metadata": {},
     "output_type": "display_data"
    }
   ],
   "source": [
    "plt.loglog(many_conds,many_errors,color='blue',label='Норма ошибки')\n",
    "plt.scatter(many_conds,many_errors,color='blue')\n",
    "plt.loglog(many_conds,many_nevazka,color='red',label='Норма невязки')\n",
    "plt.scatter(many_conds,many_nevazka,color='red')\n",
    "plt.legend()\n",
    "plt.xlabel('Число обусловленности')\n",
    "plt.ylabel('Норма ошибки')\n",
    "plt.title('Зависимости ошибки и невязки от числа обусловленности')\n",
    "plt.grid('True')\n",
    "plt.show()"
   ]
  },
  {
   "cell_type": "markdown",
   "metadata": {},
   "source": [
    "Построим график зависимости относительной ошибки от относительного возмущения правой части"
   ]
  },
  {
   "cell_type": "markdown",
   "metadata": {},
   "source": [
    "Создадим необходимые массивы"
   ]
  },
  {
   "cell_type": "code",
   "execution_count": 17,
   "metadata": {},
   "outputs": [],
   "source": [
    "many_b_disturbance=[]\n",
    "many_disturbance=[]"
   ]
  },
  {
   "cell_type": "markdown",
   "metadata": {},
   "source": [
    "Зададим число обусловленности наших матриц"
   ]
  },
  {
   "cell_type": "code",
   "execution_count": 18,
   "metadata": {},
   "outputs": [],
   "source": [
    "cond=10"
   ]
  },
  {
   "cell_type": "markdown",
   "metadata": {},
   "source": [
    "Создадим много матриц одинаковой размерности с заданным числом обусловленности"
   ]
  },
  {
   "cell_type": "code",
   "execution_count": 19,
   "metadata": {},
   "outputs": [],
   "source": [
    "i=0\n",
    "result_x=np.random.sample(n).reshape(-1, 1)\n",
    "lambda1=1\n",
    "lambda2=cond\n",
    "lambda_n=random.uniform(1,cond)\n",
    "u=np.full(n-2,lambda_n)\n",
    "v=np.concatenate((np.array([lambda1,cond]),u))\n",
    "D=np.diag(v)\n",
    "T=np.tri(n)\n",
    "G=np.diag(np.ones(n))\n",
    "B=T+D-G\n",
    "E=np.eye(n)\n",
    "w=np.random.sample(n)\n",
    "Q=E-2*w*w.reshape(-1, 1)/np.linalg.norm(w)**2\n",
    "A=np.dot(np.linalg.inv(Q),B)\n",
    "A=np.dot(A, Q)\n",
    "b=np.dot(A,result_x)\n",
    "while i!=20:\n",
    "    delta_b=np.zeros(n).reshape(-1,1)\n",
    "    k=0\n",
    "    while k!=n-1:\n",
    "        delta_b[k]=delta_b[k]+2*(0.5-random.random())*b[k]*0.02\n",
    "        k+=1\n",
    "    b=b+delta_b\n",
    "    many_disturbance.append(delta_b)\n",
    "    i+=1\n",
    "    many_b_disturbance.append(b)"
   ]
  },
  {
   "cell_type": "markdown",
   "metadata": {},
   "source": [
    "Создадим массивы, необходимые для построения графика"
   ]
  },
  {
   "cell_type": "code",
   "execution_count": 20,
   "metadata": {},
   "outputs": [],
   "source": [
    "many_num_results=[np.dot(Iordan(A),many_b_disturbance[i]) for i in f]\n",
    "many_errors=[np.linalg.norm(many_num_results[i]-result_x,2) for i in f]\n",
    "many_relative_disturbance=[np.linalg.norm(many_disturbance[i],2)/np.linalg.norm(b,2) for i in f]\n",
    "many_relative_errors=[many_errors[i]/np.linalg.norm(result_x,2) for i in f]"
   ]
  },
  {
   "cell_type": "markdown",
   "metadata": {},
   "source": [
    "Строим график"
   ]
  },
  {
   "cell_type": "code",
   "execution_count": 21,
   "metadata": {},
   "outputs": [
    {
     "data": {
      "text/plain": [
       "Text(0, 0.5, 'Относительная ошибка')"
      ]
     },
     "execution_count": 21,
     "metadata": {},
     "output_type": "execute_result"
    },
    {
     "data": {
      "image/png": "[encoded data removed]",
      "text/plain": [
       "<Figure size 640x480 with 1 Axes>"
      ]
     },
     "metadata": {},
     "output_type": "display_data"
    }
   ],
   "source": [
    "plt.scatter(many_relative_disturbance,many_relative_errors,color='red')\n",
    "plt.title('Зависимость относительной ошибки от относительного возмущения правой части')\n",
    "plt.grid(True)\n",
    "#plt.xscale('log')\n",
    "#plt.yscale('log')\n",
    "plt.xlabel('Относительное возмущение правой части')\n",
    "plt.ylabel('Относительная ошибка')"
   ]
  }
 ],
 "metadata": {
  "kernelspec": {
   "display_name": "Python 3",
   "language": "python",
   "name": "python3"
  },
  "language_info": {
   "codemirror_mode": {
    "name": "ipython",
    "version": 3
   },
   "file_extension": ".py",
   "mimetype": "text/x-python",
   "name": "python",
   "nbconvert_exporter": "python",
   "pygments_lexer": "ipython3",
   "version": "3.12.4"
  }
 },
 "nbformat": 4,
 "nbformat_minor": 2
}
