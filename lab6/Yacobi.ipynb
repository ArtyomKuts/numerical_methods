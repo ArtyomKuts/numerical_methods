{
 "cells": [
  {
   "cell_type": "markdown",
   "metadata": {},
   "source": [
    "ЛАБОРАТОРНАЯ РАБОТА 1.6"
   ]
  },
  {
   "cell_type": "code",
   "execution_count": 2,
   "metadata": {},
   "outputs": [],
   "source": [
    "import numpy as np \n",
    "import matplotlib.pyplot as plt "
   ]
  },
  {
   "cell_type": "code",
   "execution_count": 3,
   "metadata": {},
   "outputs": [],
   "source": [
    "eps = 0.01\n",
    "n = 3\n",
    "many_lam = []"
   ]
  },
  {
   "cell_type": "code",
   "execution_count": 4,
   "metadata": {},
   "outputs": [
    {
     "data": {
      "text/plain": [
       "array([ 2.16373044, 17.67780134, 21.56228224])"
      ]
     },
     "execution_count": 4,
     "metadata": {},
     "output_type": "execute_result"
    }
   ],
   "source": [
    "for i in range(1, n + 1):\n",
    "    many_lam.append(np.random.randint(10 * (i - 1), 10 * i))\n",
    "many_lam += np.random.sample(n)\n",
    "many_lam"
   ]
  },
  {
   "cell_type": "code",
   "execution_count": 5,
   "metadata": {},
   "outputs": [
    {
     "data": {
      "text/plain": [
       "array([[19.77417908, -1.41652903, -1.34139113],\n",
       "       [-1.41652903, 13.38092273,  8.25827256],\n",
       "       [-1.34139113,  8.25827256,  8.24871221]])"
      ]
     },
     "execution_count": 5,
     "metadata": {},
     "output_type": "execute_result"
    }
   ],
   "source": [
    "def create_matrix_with_eignvalues(eignvalues, n):\n",
    "    random_matrix = np.random.rand(n, n)\n",
    "    Q, _ = np.linalg.qr(random_matrix)\n",
    "    D = np.diag(eignvalues)\n",
    "    A = Q.T @ D @ Q\n",
    "    return A\n",
    "A = create_matrix_with_eignvalues(many_lam, n)\n",
    "A"
   ]
  },
  {
   "cell_type": "code",
   "execution_count": 6,
   "metadata": {},
   "outputs": [],
   "source": [
    "H = A"
   ]
  },
  {
   "cell_type": "code",
   "execution_count": 8,
   "metadata": {},
   "outputs": [
    {
     "data": {
      "text/plain": [
       "[array([[1.76778019e+01, 1.48150529e-03, 1.88044025e-15],\n",
       "        [1.48150529e-03, 2.15622817e+01, 1.55514936e-05],\n",
       "        [2.66453526e-15, 1.55514936e-05, 2.16373044e+00]]),\n",
       " array([[ 0.55139749,  0.83386917,  0.02496022],\n",
       "        [-0.68993384,  0.43899153,  0.57556732],\n",
       "        [ 0.46899052, -0.33458727,  0.81737338]]),\n",
       " 7]"
      ]
     },
     "execution_count": 8,
     "metadata": {},
     "output_type": "execute_result"
    }
   ],
   "source": [
    "def jacobi_method(A, eps, n):    \n",
    "    eigenvectors = np.eye(n)\n",
    "    T = np.copy(A)\n",
    "    K = np.triu(T, 1)\n",
    "    K = np.abs(K)\n",
    "    it = 0\n",
    "    while K.max() ** 2 > eps:\n",
    "        it += 1\n",
    "        G = np.eye(n)\n",
    "        F = np.triu(T,1)\n",
    "        p, q = np.unravel_index(np.argmax(np.abs(F)), F.shape)\n",
    "        \n",
    "        C = np.sqrt(1 / (1 + (2 * T[p, q] / (T[p, p] - T[q, q])) ** 2))\n",
    "        s = np.sqrt((1 - C) / 2)\n",
    "        c = np.sqrt((1 + C) / 2)\n",
    "\n",
    "        for i in range(n):\n",
    "            t = T[i, p]\n",
    "            g = eigenvectors[i, p]\n",
    "            T[i, p] = c * t + s * T[i, q]\n",
    "            T[i, q] = s * t - c * T[i, q]\n",
    "    \n",
    "        for j in range(n):\n",
    "            t = T[p, j]\n",
    "            g = eigenvectors[p, j]\n",
    "            T[p, j] = c * t + s * T[q, j]\n",
    "            T[q, j] = s * t - c * T[q, j]\n",
    "        \n",
    "        G[p, p] = c\n",
    "        G[p, q] = s\n",
    "        G[q, p] = -s\n",
    "        G[q, q] = c\n",
    "     \n",
    "        eigenvectors =  np.dot(eigenvectors, G)\n",
    "        K = np.triu(T, 1)\n",
    "        K = np.abs(K)\n",
    "    eigenvalues = np.diag(T)\n",
    "    return [T, eigenvectors, it]\n",
    "jacobi_method(A, eps, n)"
   ]
  }
 ],
 "metadata": {
  "kernelspec": {
   "display_name": "Python 3",
   "language": "python",
   "name": "python3"
  },
  "language_info": {
   "codemirror_mode": {
    "name": "ipython",
    "version": 3
   },
   "file_extension": ".py",
   "mimetype": "text/x-python",
   "name": "python",
   "nbconvert_exporter": "python",
   "pygments_lexer": "ipython3",
   "version": "3.12.4"
  }
 },
 "nbformat": 4,
 "nbformat_minor": 2
}
